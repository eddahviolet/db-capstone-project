{
 "cells": [
  {
   "cell_type": "code",
   "execution_count": 9,
   "id": "a43a0068",
   "metadata": {},
   "outputs": [
    {
     "name": "stdout",
     "output_type": "stream",
     "text": [
      "mysql.connector imported\n",
      "you are now connected to  littlelemondb\n",
      "cursor object ready\n"
     ]
    }
   ],
   "source": [
    "import mysql.connector as connector\n",
    "print(\"mysql.connector imported\")\n",
    "connection = connector.connect (user = \"eddah\", password = \"Vivamagenta@2023\", db = \"LittleLemonDB\")\n",
    "print(\"you are now connected to \", connection.database)\n",
    "cursor = connection.cursor()\n",
    "print (\"cursor object ready\")"
   ]
  },
  {
   "cell_type": "code",
   "execution_count": 10,
   "id": "20716abf",
   "metadata": {},
   "outputs": [
    {
     "name": "stdout",
     "output_type": "stream",
     "text": [
      "Tables in LittleLemonDB Database\n",
      "('bookings',)\n",
      "('customers',)\n",
      "('deliveryaddress',)\n",
      "('menuitems',)\n",
      "('menus',)\n",
      "('orderdeliverystatus',)\n",
      "('orders',)\n",
      "('ordersview',)\n",
      "('staff',)\n",
      "('staffaddress',)\n"
     ]
    }
   ],
   "source": [
    "cursor.execute(\"show tables\")\n",
    "results=cursor.fetchall()\n",
    "print(\"Tables in LittleLemonDB Database\")\n",
    "for table in results:\n",
    "    print (table)\n",
    "    \n",
    "# ordersview is a virtual table"
   ]
  },
  {
   "cell_type": "code",
   "execution_count": 22,
   "id": "aa25a8a4",
   "metadata": {},
   "outputs": [
    {
     "name": "stdout",
     "output_type": "stream",
     "text": [
      "Customer who spent more than KES 60 \n",
      "\n",
      "('CustomerName', 'PhoneNumber', 'BookingID', 'TotalCost')\n",
      "('John Maina', 725738177, 1, '200.00')\n",
      "('Kane Shikwekwe', 725568178, 3, '400.00')\n",
      "('John Maina', 725738177, 4, '80.00')\n",
      "('John Maina', 725738177, 1, '1000.00')\n",
      "('Alice Kwamboka', 733738177, 2, '800.00')\n",
      "('Alice Kwamboka', 733738177, 2, '800.00')\n"
     ]
    }
   ],
   "source": [
    "# I will add BookingID to the query because my Customers table connects to the Orders table through the Bookings table\n",
    "# I use the cast() function in my query to convert the output of Totalcost column which is decimal to char datatype\n",
    "query_1 = \"\"\"select concat(Customers.CustomerFirstName,' ', Customers.CustomerLastName) as CustomerName, Customers.PhoneNumber, \n",
    "Bookings.BookingID, cast(Orders.TotalCost as char) as TotalCost from Customers inner join Bookings on Customers.CustomerID = Bookings.CustomerID \n",
    "inner join Orders on Bookings.BookingID = Orders.BookingID where Orders.TotalCost > 60\"\"\"\n",
    "cursor.execute(query_1)\n",
    "results= cursor.fetchall()\n",
    "cols=cursor.column_names\n",
    "print(\"Customer who spent more than KES 60\", \"\\n\")\n",
    "print(cols)\n",
    "for row in results:\n",
    "    print(row)\n",
    "    "
   ]
  },
  {
   "cell_type": "code",
   "execution_count": 7,
   "id": "628707da",
   "metadata": {},
   "outputs": [
    {
     "name": "stdout",
     "output_type": "stream",
     "text": [
      "Connection is now closed\n"
     ]
    }
   ],
   "source": [
    "connection.close()\n",
    "print(\"Connection is now closed\")"
   ]
  },
  {
   "cell_type": "code",
   "execution_count": null,
   "id": "33dc132a",
   "metadata": {},
   "outputs": [],
   "source": []
  }
 ],
 "metadata": {
  "kernelspec": {
   "display_name": "Python 3 (ipykernel)",
   "language": "python",
   "name": "python3"
  },
  "language_info": {
   "codemirror_mode": {
    "name": "ipython",
    "version": 3
   },
   "file_extension": ".py",
   "mimetype": "text/x-python",
   "name": "python",
   "nbconvert_exporter": "python",
   "pygments_lexer": "ipython3",
   "version": "3.10.7"
  },
  "vscode": {
   "interpreter": {
    "hash": "9de0056c6f2cad9a81d5e93a551d6bf9e6c936725506ef4c424d82c22e389351"
   }
  }
 },
 "nbformat": 4,
 "nbformat_minor": 5
}
