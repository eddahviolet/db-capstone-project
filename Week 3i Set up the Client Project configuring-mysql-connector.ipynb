{
 "cells": [
  {
   "cell_type": "code",
   "execution_count": 1,
   "id": "77f4d653",
   "metadata": {},
   "outputs": [
    {
     "name": "stdout",
     "output_type": "stream",
     "text": [
      "Requirement already satisfied: mysql-connector-python in c:\\users\\violet\\appdata\\local\\programs\\python\\python310\\lib\\site-packages (8.0.32)\n",
      "Requirement already satisfied: protobuf<=3.20.3,>=3.11.0 in c:\\users\\violet\\appdata\\local\\programs\\python\\python310\\lib\\site-packages (from mysql-connector-python) (3.20.3)\n",
      "mysql conector installed\n"
     ]
    }
   ],
   "source": [
    "!pip install mysql-connector-python\n",
    "print(\"mysql conector installed\")"
   ]
  },
  {
   "cell_type": "code",
   "execution_count": 1,
   "id": "54d990bb",
   "metadata": {},
   "outputs": [
    {
     "name": "stdout",
     "output_type": "stream",
     "text": [
      "mysql connector imported\n"
     ]
    }
   ],
   "source": [
    "import mysql.connector as connector\n",
    "print(\"mysql connector imported\")"
   ]
  },
  {
   "cell_type": "code",
   "execution_count": 2,
   "id": "209bd9b0",
   "metadata": {},
   "outputs": [
    {
     "name": "stdout",
     "output_type": "stream",
     "text": [
      "connection made\n"
     ]
    }
   ],
   "source": [
    "connection = connector.connect(user = \"eddah\", password = \"Vivamagenta@2023\")\n",
    "print(\"connection made\")"
   ]
  },
  {
   "cell_type": "code",
   "execution_count": null,
   "id": "852e10dd",
   "metadata": {},
   "outputs": [],
   "source": []
  }
 ],
 "metadata": {
  "kernelspec": {
   "display_name": "Python 3 (ipykernel)",
   "language": "python",
   "name": "python3"
  },
  "language_info": {
   "codemirror_mode": {
    "name": "ipython",
    "version": 3
   },
   "file_extension": ".py",
   "mimetype": "text/x-python",
   "name": "python",
   "nbconvert_exporter": "python",
   "pygments_lexer": "ipython3",
   "version": "3.10.7"
  },
  "vscode": {
   "interpreter": {
    "hash": "9de0056c6f2cad9a81d5e93a551d6bf9e6c936725506ef4c424d82c22e389351"
   }
  }
 },
 "nbformat": 4,
 "nbformat_minor": 5
}
